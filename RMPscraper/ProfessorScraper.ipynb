{
 "cells": [
  {
   "cell_type": "code",
   "execution_count": 1,
   "metadata": {},
   "outputs": [],
   "source": [
    "from bs4 import BeautifulSoup\n",
    "import pandas as pd\n",
    "import requests\n",
    "import numpy as np\n",
    "from time import sleep"
   ]
  },
  {
   "cell_type": "code",
   "execution_count": 2,
   "metadata": {},
   "outputs": [],
   "source": [
    "## Pass in a URL and it returns the data for that professor\n",
    "def get_data(url):\n",
    "    req = requests.get(url).content\n",
    "    bs = BeautifulSoup(req)\n",
    "    name = list(bs.find(\"div\", class_=\"NameTitle__Name-dowf0z-0 cfjPUG\").descendants)\n",
    "    name = f\"{name[1]} {name[4]}\"\n",
    "    department = bs.find(\"a\", class_=\"TeacherDepartment__StyledDepartmentLink-fl79e8-0 fuypDB\").b.contents[0]\n",
    "    school = bs.find(\"a\", href=\"/school?sid=1074\").contents[0]\n",
    "    tags = np.unique(bs.find_all(\"span\", class_=\"Tag-bs9vf4-0 hHOVKF\"), return_counts=True)\n",
    "    tags = {i:j for i,j in zip(tags[0], tags[1])}\n",
    "    rating = bs.find(\"div\", class_=\"RatingValue__Numerator-qw8sqy-2 liyUjw\").contents[0]\n",
    "    feedback = bs.find_all(\"div\", \"FeedbackItem__FeedbackNumber-uof32n-1 kkESWs\")\n",
    "    take_again = feedback[0].contents[0][:-1]\n",
    "    difficulty = feedback[1].contents[0]\n",
    "    return [name, department, school, tags, rating, take_again, difficulty]\n"
   ]
  },
  {
   "cell_type": "code",
   "execution_count": 3,
   "metadata": {},
   "outputs": [],
   "source": [
    "## Example dataframe -> appends data to csv file\n",
    "pd.DataFrame(data=get_data(\"https://www.ratemyprofessors.com/professor?tid=2466852\"), index=[\"name\", \"department\", \"school\", \"tags\", \"rating\", \"take_again\", \"difficulty\"]).transpose().to_csv(f\"professors.csv\", mode='a', header=False, index=False)"
   ]
  },
  {
   "cell_type": "code",
   "execution_count": null,
   "metadata": {},
   "outputs": [],
   "source": [
    "## While Loop that checks random pages for professors -> appends data to csv file\n",
    "\n",
    "count = 0\n",
    "page = 2466852\n",
    "while count < 10:\n",
    "    try:\n",
    "        pd.DataFrame(data=get_data(f\"https://www.ratemyprofessors.com/professor?tid={page}\"), index=[\"name\", \"department\", \"school\", \"tags\", \"rating\", \"take_again\", \"difficulty\"]).transpose().to_csv(f\"professors.csv\", mode='a', header=False, index=False)\n",
    "        count += 1\n",
    "        print('x')\n",
    "    except Exception as e:\n",
    "        print(e)\n",
    "    finally:\n",
    "        page += 12"
   ]
  },
  {
   "cell_type": "code",
   "execution_count": null,
   "metadata": {},
   "outputs": [],
   "source": []
  }
 ],
 "metadata": {
  "kernelspec": {
   "display_name": "FIFA",
   "language": "python",
   "name": "python3"
  },
  "language_info": {
   "codemirror_mode": {
    "name": "ipython",
    "version": 3
   },
   "file_extension": ".py",
   "mimetype": "text/x-python",
   "name": "python",
   "nbconvert_exporter": "python",
   "pygments_lexer": "ipython3",
   "version": "3.10.6"
  },
  "orig_nbformat": 4,
  "vscode": {
   "interpreter": {
    "hash": "f323daf9833bad36c796b68a450a95d655aa3c64a52b02119ce1992842bf4181"
   }
  }
 },
 "nbformat": 4,
 "nbformat_minor": 2
}
